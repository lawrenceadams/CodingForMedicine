{
 "cells": [
  {
   "cell_type": "code",
   "execution_count": null,
   "id": "0ab4cf94",
   "metadata": {},
   "outputs": [],
   "source": [
    "\n",
    "\n",
    "# Using this dataset: https://www.kaggle.com/datasets/paultimothymooney/chest-xray-pneumonia\n",
    "# and this tutorial as a starting point: https://www.codemd.co.uk/ai-for-chest-x-rays-using-python/\n",
    "\n",
    "\n"
   ]
  }
 ],
 "metadata": {
  "kernelspec": {
   "display_name": "Python 3 (ipykernel)",
   "language": "python",
   "name": "python3"
  },
  "language_info": {
   "codemirror_mode": {
    "name": "ipython",
    "version": 3
   },
   "file_extension": ".py",
   "mimetype": "text/x-python",
   "name": "python",
   "nbconvert_exporter": "python",
   "pygments_lexer": "ipython3",
   "version": "3.8.9"
  }
 },
 "nbformat": 4,
 "nbformat_minor": 5
}
